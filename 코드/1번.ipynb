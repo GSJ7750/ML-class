{
 "cells": [
  {
   "cell_type": "code",
   "execution_count": 2,
   "metadata": {},
   "outputs": [
    {
     "name": "stdout",
     "output_type": "stream",
     "text": [
      "cbc\n",
      "1221\n",
      "2\n"
     ]
    }
   ],
   "source": [
    "a = ['cbc', 'xyz', 'abb', '1221']\n",
    "def check_same(list):\n",
    "    num = 0\n",
    "    for i in list:\n",
    "        if(i[0] == i[-1]):\n",
    "            print(i)\n",
    "            num+=1\n",
    "    print(num)\n",
    "    return\n",
    "check_same(a)"
   ]
  }
 ],
 "metadata": {
  "kernelspec": {
   "display_name": "Python [conda env:tf1.8]",
   "language": "python",
   "name": "conda-env-tf1.8-py"
  },
  "language_info": {
   "codemirror_mode": {
    "name": "ipython",
    "version": 3
   },
   "file_extension": ".py",
   "mimetype": "text/x-python",
   "name": "python",
   "nbconvert_exporter": "python",
   "pygments_lexer": "ipython3",
   "version": "3.5.6"
  }
 },
 "nbformat": 4,
 "nbformat_minor": 2
}
